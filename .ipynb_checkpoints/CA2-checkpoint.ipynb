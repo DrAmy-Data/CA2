{
 "cells": [
  {
   "cell_type": "markdown",
   "id": "975f69a4",
   "metadata": {},
   "source": [
    "Semester 1: Continuous Assessment 2"
   ]
  },
  {
   "cell_type": "markdown",
   "id": "27fbfd6c",
   "metadata": {},
   "source": [
    "Testing out Github respository\n",
    "Uploading a jupyter notebook"
   ]
  },
  {
   "cell_type": "markdown",
   "id": "5b2ed3a1",
   "metadata": {},
   "source": [
    "testing for making gantt chart"
   ]
  },
  {
   "cell_type": "code",
   "execution_count": null,
   "id": "7f8125ff",
   "metadata": {},
   "outputs": [],
   "source": [
    "# import libraries\n",
    "import plotly.express as px\n",
    "import pandas as pd\n",
    "import plotly.figure_factory as ff"
   ]
  },
  {
   "cell_type": "code",
   "execution_count": null,
   "id": "8221ff36",
   "metadata": {
    "scrolled": true
   },
   "outputs": [],
   "source": [
    "# Creating a gantt chart for my project\n",
    "\n",
    "df = pd.DataFrame([\n",
    "    dict(Task=\"Investigate and Develop Questions\", Start='2022-12-04', Finish='2022-12-11'),\n",
    "    dict(Task=\"Data Collection & Prep\", Start='2022-12-10', Finish='2022-12-18'),\n",
    "    dict(Task=\"EDA & Statistics\", Start='2022-12-18', Finish='2022-12-22'),\n",
    "    dict(Task=\"Machine Learning\", Start='2022-12-20', Finish='2022-12-22'),\n",
    "    dict(Task=\"Machine Learning\", Start='2022-12-27', Finish='2023-01-01'),\n",
    "    dict(Task=\"Report Writing \", Start='2022-12-18', Finish='2022-12-22'),\n",
    "    dict(Task=\"Report Writing \", Start='2022-12-27', Finish='2023-01-05'),\n",
    "    dict(Task=\"Submit \", Start='2023-01-06', Finish='2023-01-06')\n",
    "])\n",
    "\n",
    "fig = px.timeline(df, x_start=\"Start\", x_end=\"Finish\", y=\"Task\")\n",
    "fig.update_yaxes(autorange=\"reversed\") # otherwise tasks are listed from the bottom up\n",
    "fig.show()"
   ]
  },
  {
   "cell_type": "markdown",
   "id": "465cddce",
   "metadata": {},
   "source": [
    "I created a gantt chart as a visual guide for my CRISP-DM framework. Blue is the automatic colour. In order to track my progress in real time I have recreated the graph (below) using different colours representing my progress through the project. "
   ]
  },
  {
   "cell_type": "code",
   "execution_count": null,
   "id": "11a0811c",
   "metadata": {
    "scrolled": true
   },
   "outputs": [],
   "source": [
    "\n",
    "df = pd.DataFrame([\n",
    "    dict(Task=\"Investigate & Develop Questions\", Start='2022-12-04', Finish='2022-12-11', Resource='Incomplete'),\n",
    "    dict(Task=\"Data Collection & Prep\", Start='2022-12-10', Finish='2022-12-18',  Resource='Not Started'),\n",
    "    dict(Task=\"EDA & Statistics\", Start='2022-12-18', Finish='2022-12-22',  Resource='Not Started'),\n",
    "    dict(Task=\"Machine Learning\", Start='2022-12-20', Finish='2022-12-22',  Resource='Not Started'),\n",
    "    dict(Task=\"Machine Learning\", Start='2022-12-27', Finish='2023-01-01',  Resource='Not Started'),\n",
    "    dict(Task=\"Report Writing \", Start='2022-12-18', Finish='2022-12-22',  Resource='Not Started'),\n",
    "    dict(Task=\"Report Writing \", Start='2022-12-27', Finish='2023-01-05',  Resource='Not Started'),\n",
    "    dict(Task=\"Submit \", Start='2023-01-06', Finish='2023-01-06',  Resource='Not Started')\n",
    "])\n",
    "\n",
    "colors = {'Not Started': 'rgb(220, 0, 0)',\n",
    "          'Incomplete': (1, 0.9, 0.16),\n",
    "          'Complete': 'rgb(0, 255, 100)'}\n",
    "\n",
    "fig = ff.create_gantt(df, colors=colors, index_col='Resource', show_colorbar=True,\n",
    "                      group_tasks=True)\n",
    "fig.show()"
   ]
  },
  {
   "cell_type": "markdown",
   "id": "93eb2a65",
   "metadata": {},
   "source": [
    "I created a gantt chart as a visual guide for my CRISP-DM framework. It is colour coded to show the progress in the project, as an aide to show how well I am keeping up with the timeline. "
   ]
  },
  {
   "cell_type": "code",
   "execution_count": null,
   "id": "e09a85be",
   "metadata": {},
   "outputs": [],
   "source": [
    "# testing to see if the branch works"
   ]
  },
  {
   "cell_type": "code",
   "execution_count": null,
   "id": "9e189ed7",
   "metadata": {},
   "outputs": [],
   "source": [
    "# adding another comment to figure out how (just) Git works"
   ]
  },
  {
   "cell_type": "code",
   "execution_count": null,
   "id": "5b5fd932",
   "metadata": {},
   "outputs": [],
   "source": [
    "# one final git commit test to confirm I know what is happening"
   ]
  },
  {
   "cell_type": "code",
   "execution_count": null,
   "id": "928494a1",
   "metadata": {},
   "outputs": [],
   "source": [
    "# Data Prep\n",
    "# Importing the dataset\n",
    "df = pd.read_csv('Production_Indices_E_All_Data_(Normalized).csv')"
   ]
  },
  {
   "cell_type": "code",
   "execution_count": null,
   "id": "1ef83635",
   "metadata": {},
   "outputs": [],
   "source": []
  }
 ],
 "metadata": {
  "kernelspec": {
   "display_name": "Python 3 (ipykernel)",
   "language": "python",
   "name": "python3"
  },
  "language_info": {
   "codemirror_mode": {
    "name": "ipython",
    "version": 3
   },
   "file_extension": ".py",
   "mimetype": "text/x-python",
   "name": "python",
   "nbconvert_exporter": "python",
   "pygments_lexer": "ipython3",
   "version": "3.9.12"
  }
 },
 "nbformat": 4,
 "nbformat_minor": 5
}
