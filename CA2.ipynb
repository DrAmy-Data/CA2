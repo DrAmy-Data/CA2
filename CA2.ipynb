{
 "cells": [
  {
   "cell_type": "markdown",
   "id": "975f69a4",
   "metadata": {},
   "source": [
    "Semester 1: Continuous Assessment 2"
   ]
  },
  {
   "cell_type": "markdown",
   "id": "27fbfd6c",
   "metadata": {},
   "source": [
    "Testing out Github respository\n",
    "Uploading a jupyter notebook"
   ]
  },
  {
   "cell_type": "code",
   "execution_count": null,
   "id": "a7c21c79",
   "metadata": {},
   "outputs": [],
   "source": []
  }
 ],
 "metadata": {
  "kernelspec": {
   "display_name": "Python 3 (ipykernel)",
   "language": "python",
   "name": "python3"
  },
  "language_info": {
   "codemirror_mode": {
    "name": "ipython",
    "version": 3
   },
   "file_extension": ".py",
   "mimetype": "text/x-python",
   "name": "python",
   "nbconvert_exporter": "python",
   "pygments_lexer": "ipython3",
   "version": "3.9.12"
  }
 },
 "nbformat": 4,
 "nbformat_minor": 5
}
